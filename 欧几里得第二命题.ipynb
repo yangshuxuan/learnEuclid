{
 "cells": [
  {
   "cell_type": "code",
   "execution_count": 27,
   "metadata": {},
   "outputs": [],
   "source": [
    "#%matplotlib widget"
   ]
  },
  {
   "cell_type": "code",
   "execution_count": 28,
   "metadata": {},
   "outputs": [
    {
     "name": "stdout",
     "output_type": "stream",
     "text": [
      "Available matplotlib backends: ['tk', 'gtk', 'gtk3', 'wx', 'qt4', 'qt5', 'qt', 'osx', 'nbagg', 'notebook', 'agg', 'svg', 'pdf', 'ps', 'inline', 'ipympl', 'widget']\n"
     ]
    }
   ],
   "source": [
    "%matplotlib --list"
   ]
  },
  {
   "cell_type": "code",
   "execution_count": 29,
   "metadata": {},
   "outputs": [],
   "source": [
    "%matplotlib ipympl"
   ]
  },
  {
   "cell_type": "code",
   "execution_count": 30,
   "metadata": {},
   "outputs": [],
   "source": [
    "import matplotlib.pyplot as plt\n",
    "import numpy as np\n",
    "plt.ion()"
   ]
  },
  {
   "cell_type": "code",
   "execution_count": 31,
   "metadata": {},
   "outputs": [],
   "source": [
    "from matplotlib.widgets import Button\n",
    "from sympy import symbols, Eq, solve"
   ]
  },
  {
   "cell_type": "code",
   "execution_count": 32,
   "metadata": {},
   "outputs": [],
   "source": [
    "class Eulid2:\n",
    "    def __init__(self):\n",
    "        self.nextOperations = []\n",
    "        self.prevOperations = []\n",
    "        plt.ion()\n",
    "        self.fig = plt.figure() \n",
    "        self.ax = plt.axes(xlim=(-0.5, 2.0), ylim=(-0.5,2.0)) \n",
    "        self.ax.set_aspect('equal') #避免圆显示成椭圆\n",
    "        A = [0.5,0.5]\n",
    "        self.nextOperations.append(lambda : self.drawPoint(A,'A', 'o',\"标识点A\"))\n",
    "        B = [0.8,0.7]\n",
    "        self.nextOperations.append(lambda : self.drawPoint(B,'B','o',\"标识点B\"))\n",
    "        C = [1.5,1.0]\n",
    "        self.nextOperations.append(lambda : self.drawPoint(C,'C','o',\"标识点C\"))\n",
    "        \n",
    "        self.nextOperations.append(lambda : self.drawLineBetweenTwoPoints(B,C,\"连接点B点C,形成线段BC,准备画出以A为起点的线段，长度与线段相等\"))\n",
    "        \n",
    "        self.nextOperations.append(lambda : self.circleByCenterAndEdge(A,B,\"以A为圆心，AB为半径画圆\"))\n",
    "        \n",
    "        self.nextOperations.append(lambda : self.circleByCenterAndEdge(B,A,\"以B为圆心，AB为半径画圆\"))\n",
    "        B\n",
    "        D,_ = self.findCrossPointOfTowCirclesWithSameRadius(A,B)\n",
    "        self.nextOperations.append(lambda : self.drawPoint(D,'D',  'yo',\"两圆相交于点D\"))\n",
    "        \n",
    "        self.nextOperations.append(lambda : self.drawLineBetweenTwoPoints(A,B,\"画等边三角形ABD的边AB\"))\n",
    "        self.nextOperations.append(lambda : self.drawLineBetweenTwoPoints(D,B,\"画等边三角形ABD的边BD\"))\n",
    "        self.nextOperations.append(lambda : self.drawLineBetweenTwoPoints(A,D,\"画等边三角形ABD的边AD\"))\n",
    "        \n",
    "        self.nextOperations.append(lambda : self.circleByCenterAndEdge(B,C,\"以B为圆心，BC为半径画圆\"))\n",
    "        \n",
    "        \n",
    "        _,E = self.findCrossPointOfLineAndCircle(D,B,C)\n",
    "        self.nextOperations.append(lambda : self.drawLineBetweenTwoPoints(B,E,\"延长线段DB与圆相交\"))\n",
    "\n",
    "        self.nextOperations.append(lambda : self.drawPoint(E,'E',  'o',\"线段DB延长线与圆相交于E\") )\n",
    "        \n",
    "        self.nextOperations.append(lambda : self.circleByCenterAndEdge(D,E,\"以D为圆心，DE为半径画圆\"))\n",
    "        \n",
    "        \n",
    "        _,F = self.findCrossPointOfLineAndCircle(A,D,E)\n",
    "        self.nextOperations.append(lambda : self.drawLineBetweenTwoPoints(A,F,\"延长线段AF与圆相交\"))\n",
    "        self.nextOperations.append(lambda : self.drawPoint(F,'F',  'o',\"线段DA延长线与圆相交于F,线段AF与线段BC长度相等，证毕\")) \n",
    "        \n",
    "        \n",
    "        self.nextOperations.reverse()\n",
    "\n",
    "    def __del__(self): \n",
    "        print('Destructor called, Employee deleted.') \n",
    "        plt.close()\n",
    "    def next(self):\n",
    "        if self.nextOperations:\n",
    "            o = self.nextOperations.pop()\n",
    "            p = o()\n",
    "            self.prevOperations.append((o,p))\n",
    "    def prev(self):\n",
    "        if self.prevOperations:\n",
    "            o,p = self.prevOperations.pop()\n",
    "            p()\n",
    "            self.nextOperations.append(o)\n",
    "    def findCrossPointOfTowCirclesWithSameRadius(self,A,B):\n",
    "        \"\"\"计算两个分别以A,B为圆心的，r为半径的圆的交点\"\"\"\n",
    "        x, y = symbols('x y')\n",
    "        r = ((np.array(A) - np.array(B))**2).sum()\n",
    "        eq1 = Eq(((np.array([x,y]) - np.array(B))**2).sum(),r)\n",
    "        eq2 = Eq(((np.array([x,y]) - np.array(A))**2).sum(),r)\n",
    "        return solve((eq1,eq2), (x, y))\n",
    "    def findCrossPointOfLineAndCircle(self,lineStart,centerOfCircle,pointOnEdge):\n",
    "        \"\"\"计算经过lineStart,centerOfCircle两点的直线和以centerOfCircle为圆心，边经过pointOnEdge的圆的交点\"\"\"\n",
    "        x, y = symbols('x y')\n",
    "        x0,y0 = lineStart\n",
    "        x1,y1 = centerOfCircle\n",
    "        r = ((np.array(centerOfCircle) - np.array(pointOnEdge))**2).sum()\n",
    "        eq1 = Eq((x-x0)*(y-y1)-(x-x1)*(y-y0),0)\n",
    "        eq2 = Eq(((np.array([x,y]) - np.array(centerOfCircle))**2).sum(),r)\n",
    "        return solve((eq1,eq2), (x, y))\n",
    "    def drawPoint(self,p,label,style,comment=\"\"):\n",
    "        line, = self.ax.plot([], [], style) \n",
    "        text= self.ax.text(p[0],p[1], label, transform=self.ax.transData)\n",
    "        line.set_data(p[0], p[1])\n",
    "        print(comment)\n",
    "        def clear():\n",
    "            text.remove()\n",
    "            line.set_data([],[]) \n",
    "        return clear\n",
    "    def drawLineBetweenTwoPoints(self,start,end,comment=\"\"):\n",
    "        line, = self.ax.plot([], [], lw=2) \n",
    "        line.set_data([start[0],end[0]],[start[1],end[1]])\n",
    "        print(comment)\n",
    "        def clear():\n",
    "            line.set_data([],[]) \n",
    "        return clear\n",
    "    def circleByCenterAndEdge(self,center,edge,comment=\"\"):\n",
    "        r = ((np.array(center) - np.array(edge))**2).sum()**0.5\n",
    "        x = np.cos(np.linspace(0,np.pi*2,1000)) * r\n",
    "        y = np.sin(np.linspace(0,np.pi*2,1000)) * r\n",
    "        line, = self.ax.plot([], [], lw=2) \n",
    "        line.set_data(x+center[0], y+center[1])\n",
    "        print(comment)\n",
    "        def clear():\n",
    "            line.set_data([],[]) \n",
    "        return clear\n"
   ]
  },
  {
   "cell_type": "code",
   "execution_count": 33,
   "metadata": {},
   "outputs": [
    {
     "data": {
      "application/vnd.jupyter.widget-view+json": {
       "model_id": "948da05d77b742928c635d5a5f1a93f4",
       "version_major": 2,
       "version_minor": 0
      },
      "text/plain": [
       "Canvas(toolbar=Toolbar(toolitems=[('Home', 'Reset original view', 'home', 'home'), ('Back', 'Back to previous …"
      ]
     },
     "metadata": {},
     "output_type": "display_data"
    }
   ],
   "source": [
    "eulid2 = Eulid2()"
   ]
  },
  {
   "cell_type": "code",
   "execution_count": 129,
   "metadata": {},
   "outputs": [],
   "source": [
    "eulid2.next()"
   ]
  },
  {
   "cell_type": "code",
   "execution_count": 112,
   "metadata": {},
   "outputs": [],
   "source": [
    "eulid2.prev()"
   ]
  },
  {
   "cell_type": "code",
   "execution_count": 35,
   "metadata": {},
   "outputs": [],
   "source": [
    "del eulid2"
   ]
  }
 ],
 "metadata": {
  "kernelspec": {
   "display_name": "Python 3",
   "language": "python",
   "name": "python3"
  },
  "language_info": {
   "codemirror_mode": {
    "name": "ipython",
    "version": 3
   },
   "file_extension": ".py",
   "mimetype": "text/x-python",
   "name": "python",
   "nbconvert_exporter": "python",
   "pygments_lexer": "ipython3",
   "version": "3.8.3"
  }
 },
 "nbformat": 4,
 "nbformat_minor": 4
}
