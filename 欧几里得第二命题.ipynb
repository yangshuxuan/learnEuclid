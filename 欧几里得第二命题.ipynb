{
 "cells": [
  {
   "cell_type": "code",
   "execution_count": 1,
   "metadata": {},
   "outputs": [],
   "source": [
    "%matplotlib widget"
   ]
  },
  {
   "cell_type": "code",
   "execution_count": 2,
   "metadata": {},
   "outputs": [],
   "source": [
    "import matplotlib.pyplot as plt\n",
    "import numpy as np\n",
    "plt.ion()"
   ]
  },
  {
   "cell_type": "code",
   "execution_count": 3,
   "metadata": {},
   "outputs": [],
   "source": [
    "from sympy import symbols, Eq, solve\n",
    "def findCrossPointOfTowCirclesWithSameRadius(A,B):\n",
    "    \"\"\"计算两个分别以A,B为圆心的，r为半径的圆的交点\"\"\"\n",
    "    x, y = symbols('x y')\n",
    "    r = ((np.array(A) - np.array(B))**2).sum()\n",
    "    eq1 = Eq(((np.array([x,y]) - np.array(B))**2).sum(),r)\n",
    "    eq2 = Eq(((np.array([x,y]) - np.array(A))**2).sum(),r)\n",
    "    return solve((eq1,eq2), (x, y))"
   ]
  },
  {
   "cell_type": "code",
   "execution_count": 4,
   "metadata": {},
   "outputs": [],
   "source": [
    "def findCrossPointOfLineAndCircle(lineStart,centerOfCircle,pointOnEdge):\n",
    "    \"\"\"计算经过lineStart,centerOfCircle两点的直线和以centerOfCircle为圆心，边经过pointOnEdge的圆的交点\"\"\"\n",
    "    x, y = symbols('x y')\n",
    "    x0,y0 = lineStart\n",
    "    x1,y1 = centerOfCircle\n",
    "    r = ((np.array(centerOfCircle) - np.array(pointOnEdge))**2).sum()\n",
    "    eq1 = Eq((x-x0)*(y-y1)-(x-x1)*(y-y0),0)\n",
    "    eq2 = Eq(((np.array([x,y]) - np.array(centerOfCircle))**2).sum(),r)\n",
    "    return solve((eq1,eq2), (x, y))"
   ]
  },
  {
   "cell_type": "code",
   "execution_count": 5,
   "metadata": {},
   "outputs": [],
   "source": [
    "def drawPoint(ax,p,label,style):\n",
    "    ax.plot(p[0], p[1], style) \n",
    "    ax.text(p[0], p[1], label, transform=ax.transData)"
   ]
  },
  {
   "cell_type": "code",
   "execution_count": 6,
   "metadata": {},
   "outputs": [],
   "source": [
    "def drawLineBetweenTwoPoints(ax,start,end):\n",
    "    line, = ax.plot([], [], lw=2) \n",
    "    line.set_data([start[0],end[0]],[start[1],end[1]])\n",
    "    return line\n",
    "    "
   ]
  },
  {
   "cell_type": "code",
   "execution_count": 7,
   "metadata": {},
   "outputs": [],
   "source": [
    "def circleByCenterAndEdge(ax,center,edge):\n",
    "    r = ((np.array(center) - np.array(edge))**2).sum()**0.5\n",
    "    x = np.cos(np.linspace(0,np.pi*2,1000)) * r\n",
    "    y = np.sin(np.linspace(0,np.pi*2,1000)) * r\n",
    "    line, = ax.plot([], [], lw=2) \n",
    "    line.set_data(x+center[0], y+center[1])\n",
    "    return line\n"
   ]
  },
  {
   "cell_type": "code",
   "execution_count": 8,
   "metadata": {},
   "outputs": [],
   "source": [
    "def cleanCircle(*args):\n",
    "    for line in args:\n",
    "        line.set_data([],[])"
   ]
  },
  {
   "cell_type": "code",
   "execution_count": 9,
   "metadata": {},
   "outputs": [
    {
     "data": {
      "application/vnd.jupyter.widget-view+json": {
       "model_id": "7f7b70b3d24d4401a3acd1393fc75e67",
       "version_major": 2,
       "version_minor": 0
      },
      "text/plain": [
       "Canvas(toolbar=Toolbar(toolitems=[('Home', 'Reset original view', 'home', 'home'), ('Back', 'Back to previous …"
      ]
     },
     "metadata": {},
     "output_type": "display_data"
    }
   ],
   "source": [
    "fig = plt.figure() \n",
    "ax = plt.axes(xlim=(-0.5, 2.0), ylim=(-0.5,2.0)) \n",
    "ax.set_aspect('equal') #避免圆显示成椭圆"
   ]
  },
  {
   "cell_type": "code",
   "execution_count": 10,
   "metadata": {},
   "outputs": [],
   "source": [
    "A = [0.5,0.5]\n",
    "drawPoint(ax,A,'A', 'o') "
   ]
  },
  {
   "cell_type": "code",
   "execution_count": 11,
   "metadata": {},
   "outputs": [],
   "source": [
    "B = [0.8,0.7]\n",
    "drawPoint(ax,B,'B','o') "
   ]
  },
  {
   "cell_type": "code",
   "execution_count": 12,
   "metadata": {},
   "outputs": [],
   "source": [
    "C = [1.5,1.0]\n",
    "drawPoint(ax,C,'C','o') "
   ]
  },
  {
   "cell_type": "code",
   "execution_count": 13,
   "metadata": {},
   "outputs": [
    {
     "data": {
      "text/plain": [
       "<matplotlib.lines.Line2D at 0x2a5e413e790>"
      ]
     },
     "execution_count": 13,
     "metadata": {},
     "output_type": "execute_result"
    }
   ],
   "source": [
    "drawLineBetweenTwoPoints(ax,B,C)"
   ]
  },
  {
   "cell_type": "markdown",
   "metadata": {},
   "source": [
    "## 以AB为三角形"
   ]
  },
  {
   "cell_type": "code",
   "execution_count": 14,
   "metadata": {},
   "outputs": [],
   "source": [
    "circleA = circleByCenterAndEdge(ax,A,B)\n",
    "circleB = circleByCenterAndEdge(ax,B,A)"
   ]
  },
  {
   "cell_type": "markdown",
   "metadata": {},
   "source": [
    "定位两个圆的交点D"
   ]
  },
  {
   "cell_type": "code",
   "execution_count": 15,
   "metadata": {},
   "outputs": [],
   "source": [
    "D,_ = findCrossPointOfTowCirclesWithSameRadius(A,B)\n",
    "drawPoint(ax,D,'D',  'yo') "
   ]
  },
  {
   "cell_type": "markdown",
   "metadata": {},
   "source": [
    "连接A,B,D为等边三角形"
   ]
  },
  {
   "cell_type": "code",
   "execution_count": 16,
   "metadata": {},
   "outputs": [],
   "source": [
    "lineAB = drawLineBetweenTwoPoints(ax,A,B)\n",
    "lineDB = drawLineBetweenTwoPoints(ax,D,B)\n",
    "lineAD = drawLineBetweenTwoPoints(ax,A,D)"
   ]
  },
  {
   "cell_type": "markdown",
   "metadata": {},
   "source": [
    "以B为圆心，BC为半径画圆circleC"
   ]
  },
  {
   "cell_type": "code",
   "execution_count": 17,
   "metadata": {},
   "outputs": [],
   "source": [
    "circleC = circleByCenterAndEdge(ax,B,C)"
   ]
  },
  {
   "cell_type": "markdown",
   "metadata": {},
   "source": [
    "延长DB交圆circleC于E"
   ]
  },
  {
   "cell_type": "code",
   "execution_count": 18,
   "metadata": {},
   "outputs": [],
   "source": [
    "_,E = findCrossPointOfLineAndCircle(D,B,C)\n",
    "\n",
    "drawPoint(ax,E,'E',  'o') "
   ]
  },
  {
   "cell_type": "markdown",
   "metadata": {},
   "source": [
    "以D为圆心，DE为半径画圆circleD"
   ]
  },
  {
   "cell_type": "code",
   "execution_count": 19,
   "metadata": {},
   "outputs": [],
   "source": [
    "circleD = circleByCenterAndEdge(ax,D,E)"
   ]
  },
  {
   "cell_type": "markdown",
   "metadata": {},
   "source": [
    "延长DA交圆circleD于F"
   ]
  },
  {
   "cell_type": "code",
   "execution_count": 20,
   "metadata": {},
   "outputs": [],
   "source": [
    "_,F = findCrossPointOfLineAndCircle(A,D,E)\n",
    "drawPoint(ax,F,'F',  'o') "
   ]
  },
  {
   "cell_type": "markdown",
   "metadata": {},
   "source": [
    "AF即为所求线段，由画图过程可知其长度与BC相等，并且是以A为起点。"
   ]
  },
  {
   "cell_type": "code",
   "execution_count": 21,
   "metadata": {},
   "outputs": [
    {
     "data": {
      "text/plain": [
       "<matplotlib.lines.Line2D at 0x2a5e46da1c0>"
      ]
     },
     "execution_count": 21,
     "metadata": {},
     "output_type": "execute_result"
    }
   ],
   "source": [
    "drawLineBetweenTwoPoints(ax,A,F)"
   ]
  },
  {
   "cell_type": "code",
   "execution_count": 22,
   "metadata": {},
   "outputs": [],
   "source": [
    "cleanCircle(circleA,circleB,circleC,circleD,lineAB,lineDB,lineAD)"
   ]
  },
  {
   "cell_type": "code",
   "execution_count": 23,
   "metadata": {},
   "outputs": [],
   "source": [
    "plt.ion()"
   ]
  },
  {
   "cell_type": "code",
   "execution_count": 24,
   "metadata": {},
   "outputs": [
    {
     "data": {
      "application/vnd.jupyter.widget-view+json": {
       "model_id": "74f8301421284d72bc8779de6c1b20bd",
       "version_major": 2,
       "version_minor": 0
      },
      "text/plain": [
       "Canvas(toolbar=Toolbar(toolitems=[('Home', 'Reset original view', 'home', 'home'), ('Back', 'Back to previous …"
      ]
     },
     "metadata": {},
     "output_type": "display_data"
    }
   ],
   "source": [
    "from matplotlib.widgets import Button\n",
    "\n",
    "freqs = np.arange(2, 20, 3)\n",
    "\n",
    "fig, ax = plt.subplots()\n",
    "plt.subplots_adjust(bottom=0.2)\n",
    "t = np.arange(0.0, 1.0, 0.001)\n",
    "s = np.sin(2*np.pi*freqs[0]*t)\n",
    "l, = plt.plot(t, s, lw=2)\n",
    "\n",
    "\n",
    "class Index:\n",
    "    ind = 0\n",
    "\n",
    "    def next(self, event):\n",
    "        self.ind += 1\n",
    "        i = self.ind % len(freqs)\n",
    "        ydata = np.sin(2*np.pi*freqs[i]*t)\n",
    "        l.set_ydata(ydata)\n",
    "        plt.draw()\n",
    "\n",
    "    def prev(self, event):\n",
    "        self.ind -= 1\n",
    "        i = self.ind % len(freqs)\n",
    "        ydata = np.sin(2*np.pi*freqs[i]*t)\n",
    "        l.set_ydata(ydata)\n",
    "        plt.draw()\n",
    "\n",
    "callback = Index()\n",
    "axprev = plt.axes([0.7, 0.05, 0.1, 0.075])\n",
    "axnext = plt.axes([0.81, 0.05, 0.1, 0.075])\n",
    "bnext = Button(axnext, 'Next')\n",
    "bnext.on_clicked(callback.next)\n",
    "bprev = Button(axprev, 'Previous')\n",
    "bprev.on_clicked(callback.prev)\n",
    "\n",
    "plt.show()"
   ]
  },
  {
   "cell_type": "code",
   "execution_count": null,
   "metadata": {},
   "outputs": [],
   "source": []
  }
 ],
 "metadata": {
  "kernelspec": {
   "display_name": "Python 3",
   "language": "python",
   "name": "python3"
  },
  "language_info": {
   "codemirror_mode": {
    "name": "ipython",
    "version": 3
   },
   "file_extension": ".py",
   "mimetype": "text/x-python",
   "name": "python",
   "nbconvert_exporter": "python",
   "pygments_lexer": "ipython3",
   "version": "3.8.3"
  }
 },
 "nbformat": 4,
 "nbformat_minor": 4
}
